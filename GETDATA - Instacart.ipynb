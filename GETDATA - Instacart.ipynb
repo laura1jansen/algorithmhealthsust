{
 "cells": [
  {
   "cell_type": "code",
   "execution_count": 24,
   "id": "a9ed4fa9",
   "metadata": {},
   "outputs": [],
   "source": [
    "import pandas as pd\n",
    "import numpy as np\n",
    "\n",
    "## Read in the transaction data (select correct path for each of the files)\n",
    "order_products_prior = pd.read_csv(r\"....\\order_products__prior.csv\", sep = ',', skipinitialspace = True)\n",
    "orders = pd.read_csv(r\"....\\orders.csv\", sep = ',', skipinitialspace = True)\n",
    "products = pd.read_csv(r\"....\\products.csv\", sep = ',', skipinitialspace = True)\n",
    "departments = pd.read_csv(r\"....\\departments.csv\", sep = ',', skipinitialspace = True)\n",
    "aisles = pd.read_csv(r\"....\\aisles.csv\", sep = ',', skipinitialspace = True)\n"
   ]
  },
  {
   "cell_type": "code",
   "execution_count": 25,
   "id": "7ecc3e55",
   "metadata": {},
   "outputs": [],
   "source": [
    "orders_prior = pd.merge(order_products_prior, orders, left_on='order_id', right_on='order_id', how='left')\n",
    "orders_products = pd.merge(orders_prior, products, left_on='product_id', right_on='product_id', how='left')\n",
    "orders_departments = pd.merge(orders_products, departments, left_on='department_id', right_on='department_id', how='left')\n",
    "all_orders = pd.merge(orders_departments, aisles, left_on='aisle_id', right_on='aisle_id', how='left')"
   ]
  },
  {
   "cell_type": "code",
   "execution_count": 26,
   "id": "dbce3770",
   "metadata": {},
   "outputs": [
    {
     "name": "stdout",
     "output_type": "stream",
     "text": [
      "   order_id  product_id  add_to_cart_order  reordered  user_id eval_set  \\\n",
      "0         2       33120                  1          1   202279    prior   \n",
      "1         2       28985                  2          1   202279    prior   \n",
      "2         2        9327                  3          0   202279    prior   \n",
      "3         2       45918                  4          1   202279    prior   \n",
      "4         2       30035                  5          0   202279    prior   \n",
      "\n",
      "   order_number  order_dow  order_hour_of_day  days_since_prior_order  \\\n",
      "0             3          5                  9                     8.0   \n",
      "1             3          5                  9                     8.0   \n",
      "2             3          5                  9                     8.0   \n",
      "3             3          5                  9                     8.0   \n",
      "4             3          5                  9                     8.0   \n",
      "\n",
      "            product_name  aisle_id  department_id  department  \\\n",
      "0     Organic Egg Whites        86             16  dairy eggs   \n",
      "1  Michigan Organic Kale        83              4     produce   \n",
      "2          Garlic Powder       104             13      pantry   \n",
      "3         Coconut Butter        19             13      pantry   \n",
      "4      Natural Sweetener        17             13      pantry   \n",
      "\n",
      "                aisle  \n",
      "0                eggs  \n",
      "1    fresh vegetables  \n",
      "2   spices seasonings  \n",
      "3       oils vinegars  \n",
      "4  baking ingredients  \n"
     ]
    }
   ],
   "source": [
    "print(all_orders.head(5))"
   ]
  },
  {
   "cell_type": "code",
   "execution_count": 27,
   "id": "f4dd1a6e",
   "metadata": {},
   "outputs": [
    {
     "name": "stdout",
     "output_type": "stream",
     "text": [
      "    order_id  product_id  add_to_cart_order  reordered  user_id eval_set  \\\n",
      "0          2       33120                  1          1   202279    prior   \n",
      "1          2       28985                  2          1   202279    prior   \n",
      "2          2        9327                  3          0   202279    prior   \n",
      "3          2       45918                  4          1   202279    prior   \n",
      "4          2       30035                  5          0   202279    prior   \n",
      "5          2       17794                  6          1   202279    prior   \n",
      "6          2       40141                  7          1   202279    prior   \n",
      "7          2        1819                  8          1   202279    prior   \n",
      "8          2       43668                  9          0   202279    prior   \n",
      "9          3       33754                  1          1   205970    prior   \n",
      "10         3       24838                  2          1   205970    prior   \n",
      "11         3       17704                  3          1   205970    prior   \n",
      "12         3       21903                  4          1   205970    prior   \n",
      "13         3       17668                  5          1   205970    prior   \n",
      "14         3       46667                  6          1   205970    prior   \n",
      "15         3       17461                  7          1   205970    prior   \n",
      "16         3       32665                  8          1   205970    prior   \n",
      "17         4       46842                  1          0   178520    prior   \n",
      "18         4       26434                  2          1   178520    prior   \n",
      "19         4       39758                  3          1   178520    prior   \n",
      "20         4       27761                  4          1   178520    prior   \n",
      "21         4       10054                  5          1   178520    prior   \n",
      "22         4       21351                  6          1   178520    prior   \n",
      "23         4       22598                  7          1   178520    prior   \n",
      "24         4       34862                  8          1   178520    prior   \n",
      "25         4       40285                  9          1   178520    prior   \n",
      "26         4       17616                 10          1   178520    prior   \n",
      "27         4       25146                 11          1   178520    prior   \n",
      "28         4       32645                 12          1   178520    prior   \n",
      "29         4       41276                 13          1   178520    prior   \n",
      "30         5       13176                  1          1   156122    prior   \n",
      "31         5       15005                  2          1   156122    prior   \n",
      "32         5       47329                  3          1   156122    prior   \n",
      "33         5       27966                  4          1   156122    prior   \n",
      "34         5       23909                  5          1   156122    prior   \n",
      "35         5       48370                  6          1   156122    prior   \n",
      "36         5       13245                  7          1   156122    prior   \n",
      "37         5        9633                  8          1   156122    prior   \n",
      "38         5       27360                  9          1   156122    prior   \n",
      "39         5        6348                 10          1   156122    prior   \n",
      "\n",
      "    order_number  order_dow  order_hour_of_day  days_since_prior_order  \\\n",
      "0              3          5                  9                     8.0   \n",
      "1              3          5                  9                     8.0   \n",
      "2              3          5                  9                     8.0   \n",
      "3              3          5                  9                     8.0   \n",
      "4              3          5                  9                     8.0   \n",
      "5              3          5                  9                     8.0   \n",
      "6              3          5                  9                     8.0   \n",
      "7              3          5                  9                     8.0   \n",
      "8              3          5                  9                     8.0   \n",
      "9             16          5                 17                    12.0   \n",
      "10            16          5                 17                    12.0   \n",
      "11            16          5                 17                    12.0   \n",
      "12            16          5                 17                    12.0   \n",
      "13            16          5                 17                    12.0   \n",
      "14            16          5                 17                    12.0   \n",
      "15            16          5                 17                    12.0   \n",
      "16            16          5                 17                    12.0   \n",
      "17            36          1                  9                     7.0   \n",
      "18            36          1                  9                     7.0   \n",
      "19            36          1                  9                     7.0   \n",
      "20            36          1                  9                     7.0   \n",
      "21            36          1                  9                     7.0   \n",
      "22            36          1                  9                     7.0   \n",
      "23            36          1                  9                     7.0   \n",
      "24            36          1                  9                     7.0   \n",
      "25            36          1                  9                     7.0   \n",
      "26            36          1                  9                     7.0   \n",
      "27            36          1                  9                     7.0   \n",
      "28            36          1                  9                     7.0   \n",
      "29            36          1                  9                     7.0   \n",
      "30            42          6                 16                     9.0   \n",
      "31            42          6                 16                     9.0   \n",
      "32            42          6                 16                     9.0   \n",
      "33            42          6                 16                     9.0   \n",
      "34            42          6                 16                     9.0   \n",
      "35            42          6                 16                     9.0   \n",
      "36            42          6                 16                     9.0   \n",
      "37            42          6                 16                     9.0   \n",
      "38            42          6                 16                     9.0   \n",
      "39            42          6                 16                     9.0   \n",
      "\n",
      "                                         product_name  aisle_id  \\\n",
      "0                                  Organic Egg Whites        86   \n",
      "1                               Michigan Organic Kale        83   \n",
      "2                                       Garlic Powder       104   \n",
      "3                                      Coconut Butter        19   \n",
      "4                                   Natural Sweetener        17   \n",
      "5                                             Carrots        83   \n",
      "6                    Original Unflavored Gelatine Mix       105   \n",
      "7            All Natural No Stir Creamy Almond Butter        88   \n",
      "8                             Classic Blend Cole Slaw       123   \n",
      "9   Total 2% with Strawberry Lowfat Greek Strained...       120   \n",
      "10                             Unsweetened Almondmilk        91   \n",
      "11                                             Lemons       123   \n",
      "12                               Organic Baby Spinach       123   \n",
      "13    Unsweetened Chocolate Almond Breeze Almond Milk        91   \n",
      "14                                Organic Ginger Root        83   \n",
      "15  Air Chilled Organic Boneless Skinless Chicken ...        35   \n",
      "16           Organic Ezekiel 49 Bread Cinnamon Raisin       112   \n",
      "17                            Plain Pre-Sliced Bagels        93   \n",
      "18                            Honey/Lemon Cough Drops        11   \n",
      "19         Chewy 25% Low Sugar Chocolate Chip Granola         3   \n",
      "20                        Oats & Chocolate Chewy Bars        48   \n",
      "21        Kellogg's Nutri-Grain Apple Cinnamon Cereal        48   \n",
      "22  Nutri-Grain Soft Baked Strawberry Cereal Break...        48   \n",
      "23             Kellogg's Nutri-Grain Blueberry Cereal        48   \n",
      "24                               Tiny Twists Pretzels       107   \n",
      "25                              Traditional Snack Mix       125   \n",
      "26              Goldfish Cheddar Baked Snack Crackers        78   \n",
      "27                              Original Orange Juice        31   \n",
      "28                             Sugarfree Energy Drink        64   \n",
      "29                                       Energy Drink        64   \n",
      "30                             Bag of Organic Bananas        24   \n",
      "31                               Just Crisp, Parmesan        89   \n",
      "32                                  Fresh Fruit Salad         1   \n",
      "33                                Organic Raspberries       123   \n",
      "34                                2% Reduced Fat Milk        84   \n",
      "35                             Sensitive Toilet Paper        54   \n",
      "36              Natural Artesian Water, Mini & Mobile       115   \n",
      "37                                  Matzos, Thin, Tea        33   \n",
      "38           Boneless Skinless Chicken Breast Fillets        49   \n",
      "39                       Mini Original Babybel Cheese        21   \n",
      "\n",
      "    department_id     department                          aisle  \\\n",
      "0              16     dairy eggs                           eggs   \n",
      "1               4        produce               fresh vegetables   \n",
      "2              13         pantry              spices seasonings   \n",
      "3              13         pantry                  oils vinegars   \n",
      "4              13         pantry             baking ingredients   \n",
      "5               4        produce               fresh vegetables   \n",
      "6              13         pantry     doughs gelatins bake mixes   \n",
      "7              13         pantry                        spreads   \n",
      "8               4        produce     packaged vegetables fruits   \n",
      "9              16     dairy eggs                         yogurt   \n",
      "10             16     dairy eggs                soy lactosefree   \n",
      "11              4        produce     packaged vegetables fruits   \n",
      "12              4        produce     packaged vegetables fruits   \n",
      "13             16     dairy eggs                soy lactosefree   \n",
      "14              4        produce               fresh vegetables   \n",
      "15             12   meat seafood                poultry counter   \n",
      "16              3         bakery                          bread   \n",
      "17              3         bakery               breakfast bakery   \n",
      "18             11  personal care               cold flu allergy   \n",
      "19             19         snacks            energy granola bars   \n",
      "20             14      breakfast        breakfast bars pastries   \n",
      "21             14      breakfast        breakfast bars pastries   \n",
      "22             14      breakfast        breakfast bars pastries   \n",
      "23             14      breakfast        breakfast bars pastries   \n",
      "24             19         snacks                 chips pretzels   \n",
      "25             19         snacks            trail mix snack mix   \n",
      "26             19         snacks                       crackers   \n",
      "27              7      beverages                   refrigerated   \n",
      "28              7      beverages           energy sports drinks   \n",
      "29              7      beverages           energy sports drinks   \n",
      "30              4        produce                   fresh fruits   \n",
      "31             13         pantry        salad dressing toppings   \n",
      "32             20           deli          prepared soups salads   \n",
      "33              4        produce     packaged vegetables fruits   \n",
      "34             16     dairy eggs                           milk   \n",
      "35             17      household                    paper goods   \n",
      "36              7      beverages  water seltzer sparkling water   \n",
      "37              6  international                   kosher foods   \n",
      "38             12   meat seafood               packaged poultry   \n",
      "39             16     dairy eggs                packaged cheese   \n",
      "\n",
      "    PRODUCT_QUANTITY  \n",
      "0                  1  \n",
      "1                  1  \n",
      "2                  2  \n",
      "3                  1  \n",
      "4                  1  \n",
      "5                  1  \n",
      "6                  1  \n",
      "7                  1  \n",
      "8                  1  \n",
      "9                  1  \n",
      "10                 1  \n",
      "11                 4  \n",
      "12                 1  \n",
      "13                 1  \n",
      "14                 1  \n",
      "15                 3  \n",
      "16                 1  \n",
      "17                 1  \n",
      "18                 1  \n",
      "19                 2  \n",
      "20                 2  \n",
      "21                 1  \n",
      "22                 1  \n",
      "23                 1  \n",
      "24                 1  \n",
      "25                 2  \n",
      "26                 1  \n",
      "27                 3  \n",
      "28                 3  \n",
      "29                 1  \n",
      "30                 1  \n",
      "31                 3  \n",
      "32                 1  \n",
      "33                 3  \n",
      "34                 4  \n",
      "35                 1  \n",
      "36                 2  \n",
      "37                 2  \n",
      "38                 4  \n",
      "39                 1  \n"
     ]
    }
   ],
   "source": [
    "import numpy as np\n",
    "import pandas as pd\n",
    "\n",
    "# ADD product quantity (how much of each product was bought, can differ each order)\n",
    "product_quantity = np.random.choice([1, 2, 3, 4], size=len(all_orders), p=[0.5, 0.2, 0.2, 0.1])\n",
    "all_orders['PRODUCT_QUANTITY'] = product_quantity\n",
    "\n",
    "print(all_orders.head(40))"
   ]
  },
  {
   "cell_type": "code",
   "execution_count": 28,
   "id": "f5783e01",
   "metadata": {},
   "outputs": [
    {
     "name": "stdout",
     "output_type": "stream",
     "text": [
      "Number of products in the RATINGS column: 32434489\n",
      "Number of unique products per cell value in the RATINGS column:\n",
      "ratings\n",
      "1    10012\n",
      "2    10066\n",
      "3     9919\n",
      "4    10041\n",
      "5     9639\n",
      "Name: product_id, dtype: int64\n"
     ]
    }
   ],
   "source": [
    "## ADD ratings: same rating for product each time it is bought\n",
    "# Create a mapping of unique products to random values\n",
    "product_mapping = pd.Series(np.random.choice([1, 2, 3, 4, 5], size=all_orders['product_id'].nunique(), p=[0.2, 0.2, 0.2, 0.2, 0.2]), index=all_orders['product_id'].unique())\n",
    "\n",
    "# Map the values to the original DataFrame\n",
    "all_orders['ratings'] = all_orders['product_id'].map(product_mapping)\n",
    "\n",
    "num_products = len(all_orders['ratings'].dropna())\n",
    "print(\"Number of products in the RATINGS column: \" + str(num_products))\n",
    "\n",
    "# Number of unique products per each cell value in the RATINGS column\n",
    "products_per_value = all_orders.groupby('ratings')['product_id'].nunique()\n",
    "print(\"Number of unique products per cell value in the RATINGS column:\")\n",
    "print(products_per_value)"
   ]
  },
  {
   "cell_type": "code",
   "execution_count": 29,
   "id": "8fb4cbe8",
   "metadata": {},
   "outputs": [
    {
     "name": "stdout",
     "output_type": "stream",
     "text": [
      "Number of products in the NUTRISCORE column: 32434489\n",
      "Number of unique products per cell value in the NUTRISCORE column:\n",
      "NUTRISCORE\n",
      "0    38739\n",
      "1     3999\n",
      "2     1492\n",
      "3     1475\n",
      "4     2482\n",
      "5     1490\n",
      "Name: product_id, dtype: int64\n"
     ]
    }
   ],
   "source": [
    "## ADD NUTRISCORE per product: same score each time it is bought\n",
    "# Create a mapping of unique products to random values\n",
    "product_mapping = pd.Series(np.random.choice([0, 1, 2, 3, 4, 5], size=all_orders['product_id'].nunique(), p=[0.78, 0.08, 0.03, 0.03, 0.05, 0.03]), index=all_orders['product_id'].unique())\n",
    "\n",
    "# Map the values to the original DataFrame\n",
    "all_orders['NUTRISCORE'] = all_orders['product_id'].map(product_mapping)\n",
    "\n",
    "num_products = len(all_orders['NUTRISCORE'].dropna())\n",
    "print(\"Number of products in the NUTRISCORE column: \" + str(num_products))\n",
    "\n",
    "# Number of unique products per each cell value in the NUTRISCORE column\n",
    "products_per_value = all_orders.groupby('NUTRISCORE')['product_id'].nunique()\n",
    "print(\"Number of unique products per cell value in the NUTRISCORE column:\")\n",
    "print(products_per_value)"
   ]
  },
  {
   "cell_type": "code",
   "execution_count": 30,
   "id": "1dc7328f",
   "metadata": {},
   "outputs": [
    {
     "name": "stdout",
     "output_type": "stream",
     "text": [
      "Number of products in the ORGANIC column: 32434489\n",
      "Number of unique products per cell value in the ORGANIC50 column:\n",
      "ORGANIC50\n",
      "0    24799\n",
      "1    24878\n",
      "Name: product_id, dtype: int64\n"
     ]
    }
   ],
   "source": [
    "## ADD ORGANIC per product: same score each time it is bought (50% 1, 50% 0)\n",
    "# Create a mapping of unique products to random values\n",
    "product_mapping = pd.Series(np.random.choice([0, 1], size=all_orders['product_id'].nunique(), p=[0.50, 0.50]), index=all_orders['product_id'].unique())\n",
    "\n",
    "# Map the values to the original DataFrame\n",
    "all_orders['ORGANIC50'] = all_orders['product_id'].map(product_mapping)\n",
    "\n",
    "num_products = len(all_orders['ORGANIC50'].dropna())\n",
    "print(\"Number of products in the ORGANIC column: \" + str(num_products))\n",
    "\n",
    "# Number of unique products per each cell value in the ORGANIC50 column\n",
    "products_per_value = all_orders.groupby('ORGANIC50')['product_id'].nunique()\n",
    "print(\"Number of unique products per cell value in the ORGANIC50 column:\")\n",
    "print(products_per_value)"
   ]
  },
  {
   "cell_type": "code",
   "execution_count": 31,
   "id": "957f3959",
   "metadata": {},
   "outputs": [],
   "source": [
    "## change names of variables into same as Dutch retailer data \n",
    "all_orders.rename(columns={'order_id': 'ORDER_ID'}, inplace=True)\n",
    "all_orders.rename(columns={'product_id': 'PRODUCT_ID'}, inplace=True)\n",
    "all_orders.rename(columns={'user_id': 'CUSTOMER_ID'}, inplace=True)\n",
    "all_orders.rename(columns={'eval_set': 'EVAL_SET'}, inplace=True)\n",
    "all_orders.rename(columns={'product_name': 'OMSCHRIJVING'}, inplace=True)\n",
    "all_orders.rename(columns={'department': 'HOOFDCATEGORIE'}, inplace=True)\n",
    "all_orders.rename(columns={'aisle': 'SUBCATEGORIE'}, inplace=True)"
   ]
  },
  {
   "cell_type": "code",
   "execution_count": 33,
   "id": "d46a6e50",
   "metadata": {},
   "outputs": [
    {
     "name": "stdout",
     "output_type": "stream",
     "text": [
      "(32434489, 19)\n"
     ]
    }
   ],
   "source": [
    "print(all_orders.shape)"
   ]
  },
  {
   "cell_type": "code",
   "execution_count": 34,
   "id": "4d265d49",
   "metadata": {},
   "outputs": [],
   "source": [
    "#select 25% of the data\n",
    "all_orders_25 = all_orders.head(int(len(all_orders) * 0.25))"
   ]
  },
  {
   "cell_type": "code",
   "execution_count": 36,
   "id": "172a5d1c",
   "metadata": {},
   "outputs": [
    {
     "name": "stdout",
     "output_type": "stream",
     "text": [
      "       PRODUCT_ID\n",
      "0           24852\n",
      "1           13176\n",
      "2           21137\n",
      "3           21903\n",
      "4           47209\n",
      "...           ...\n",
      "41582       24602\n",
      "41583       22536\n",
      "41584       32582\n",
      "41585       28229\n",
      "41586       47705\n",
      "\n",
      "[41587 rows x 1 columns]\n",
      "(8099049, 19)\n"
     ]
    }
   ],
   "source": [
    "## 1. remove ITEMS that are not bought enough \n",
    "\n",
    "product_counts = all_orders_25['PRODUCT_ID'].value_counts() \n",
    "\n",
    "products_to_keep = product_counts[product_counts >= 3].index\n",
    "\n",
    "df10 = pd.DataFrame(products_to_keep, columns=['PRODUCT_ID']) #create second dataframe with the ITEMS that should be kept\n",
    "print(df10)\n",
    "df11 = all_orders_25.merge(df10, on=['PRODUCT_ID'], how='left', indicator=True).query('_merge == \"both\"').drop(columns='_merge')\n",
    "print(df11.shape)"
   ]
  },
  {
   "cell_type": "code",
   "execution_count": 37,
   "id": "8e17abca",
   "metadata": {},
   "outputs": [
    {
     "name": "stdout",
     "output_type": "stream",
     "text": [
      "178896 unique customers\n",
      "Min basket per user: 1\n"
     ]
    }
   ],
   "source": [
    "print(str(len(df11['CUSTOMER_ID'].unique())) +' unique customers')\n",
    "min_basket_per_user = df11.groupby('CUSTOMER_ID')['ORDER_ID'].nunique().min()\n",
    "print(\"Min basket per user: \" + str(min_basket_per_user))"
   ]
  },
  {
   "cell_type": "code",
   "execution_count": 38,
   "id": "2f51929f",
   "metadata": {},
   "outputs": [
    {
     "name": "stdout",
     "output_type": "stream",
     "text": [
      "(7966178, 19)\n"
     ]
    }
   ],
   "source": [
    "## 2. KEEP ONLY BASKETS WITH >= 3 ITEMS \n",
    "\n",
    "basket_sizes = df11['ORDER_ID'].value_counts()\n",
    "\n",
    "orders_to_keep = basket_sizes[basket_sizes >= 3].index    \n",
    "\n",
    "df12 = pd.DataFrame(orders_to_keep, columns=['ORDER_ID']) #create second dataframe with the ORDER_IDs that should be kept \n",
    "\n",
    "df13 = df11.merge(df12, on=['ORDER_ID'], how='left', indicator=True).query('_merge == \"both\"').drop(columns='_merge')\n",
    "print(df13.shape)"
   ]
  },
  {
   "cell_type": "code",
   "execution_count": 39,
   "id": "571e2073",
   "metadata": {},
   "outputs": [
    {
     "name": "stdout",
     "output_type": "stream",
     "text": [
      "169638 unique customers\n",
      "Min basket per user: 1\n"
     ]
    }
   ],
   "source": [
    "print(str(len(df13['CUSTOMER_ID'].unique())) +' unique customers')\n",
    "min_basket_per_user = df13.groupby('CUSTOMER_ID')['ORDER_ID'].nunique().min()\n",
    "print(\"Min basket per user: \" + str(min_basket_per_user))"
   ]
  },
  {
   "cell_type": "code",
   "execution_count": 40,
   "id": "3eae4b69",
   "metadata": {},
   "outputs": [
    {
     "name": "stdout",
     "output_type": "stream",
     "text": [
      "Int64Index([     1,      2,      3,      7,     17,     21,     22,     27,\n",
      "                28,     29,\n",
      "            ...\n",
      "            206192, 206193, 206195, 206197, 206199, 206201, 206202, 206206,\n",
      "            206208, 206209],\n",
      "           dtype='int64', name='CUSTOMER_ID', length=89685)\n",
      "       PRODUCT_ID\n",
      "0           24852\n",
      "1           13176\n",
      "2           21137\n",
      "3           21903\n",
      "4           47209\n",
      "...           ...\n",
      "41582       24602\n",
      "41583       22536\n",
      "41584       32582\n",
      "41585       28229\n",
      "41586       47705\n",
      "\n",
      "[41587 rows x 1 columns]\n",
      "(8099049, 19)\n"
     ]
    }
   ],
   "source": [
    "## 3. remove USERS with <3 orders(baskets)\n",
    "\n",
    "order_counts_peruser = df13.groupby('CUSTOMER_ID')['ORDER_ID'].nunique()\n",
    "\n",
    "users_to_keep = order_counts_peruser[order_counts_peruser >=3].index\n",
    "print(users_to_keep)\n",
    "df14 = pd.DataFrame(users_to_keep, columns=['CUSTOMER_ID']) #create second dataframe with the USERS that should be kept\n",
    "print(df10)\n",
    "df15 = df13.merge(df14, on=['CUSTOMER_ID'], how='left', indicator=True).query('_merge == \"both\"')\n",
    "print(df11.shape)"
   ]
  },
  {
   "cell_type": "code",
   "execution_count": 41,
   "id": "732e596b",
   "metadata": {},
   "outputs": [
    {
     "name": "stdout",
     "output_type": "stream",
     "text": [
      "Average basket size: 11.218981342671661\n",
      "Min basket size: 3\n",
      "Max basket size: 137\n",
      "Average basket per user: 6.73108100574232\n",
      "Min basket per user: 3\n",
      "Max basket per user: 41\n"
     ]
    }
   ],
   "source": [
    "# Check if preprocessing went correctly\n",
    "average_basket_size = df15.groupby('ORDER_ID')['PRODUCT_ID'].count().mean()\n",
    "min_basket_size = df15.groupby('ORDER_ID')['PRODUCT_ID'].count().min()\n",
    "max_basket_size = df15.groupby('ORDER_ID')['PRODUCT_ID'].count().max()\n",
    "print(\"Average basket size: \" + str(average_basket_size))\n",
    "print(\"Min basket size: \" + str(min_basket_size))\n",
    "print(\"Max basket size: \" + str(max_basket_size))\n",
    "\n",
    "average_basket_per_user = df15.groupby('CUSTOMER_ID')['ORDER_ID'].nunique().mean()\n",
    "min_basket_per_user = df15.groupby('CUSTOMER_ID')['ORDER_ID'].nunique().min()\n",
    "max_basket_per_user = df15.groupby('CUSTOMER_ID')['ORDER_ID'].nunique().max()\n",
    "print(\"Average basket per user: \" + str(average_basket_per_user))\n",
    "print(\"Min basket per user: \" + str(min_basket_per_user))\n",
    "print(\"Max basket per user: \" + str(max_basket_per_user))\n"
   ]
  },
  {
   "cell_type": "code",
   "execution_count": 43,
   "id": "fd992ddf",
   "metadata": {},
   "outputs": [
    {
     "name": "stdout",
     "output_type": "stream",
     "text": [
      "(6772641, 20)\n"
     ]
    }
   ],
   "source": [
    "print(df15.shape)"
   ]
  },
  {
   "cell_type": "code",
   "execution_count": 45,
   "id": "2bdac429",
   "metadata": {},
   "outputs": [],
   "source": [
    "## convert all cells + headers to upper for easy analysis later\n",
    "df15 = df15.applymap(lambda x: x.upper() if isinstance(x, str) else x)    \n",
    "df15.columns = map(str.upper, df15.columns)"
   ]
  },
  {
   "cell_type": "code",
   "execution_count": 47,
   "id": "47f5f8d8",
   "metadata": {},
   "outputs": [],
   "source": [
    "## save file as CSV\n",
    "df15.to_csv(\"......csv\", index=False, na_rep='NaN')  "
   ]
  }
 ],
 "metadata": {
  "kernelspec": {
   "display_name": "Python 3 (ipykernel)",
   "language": "python",
   "name": "python3"
  },
  "language_info": {
   "codemirror_mode": {
    "name": "ipython",
    "version": 3
   },
   "file_extension": ".py",
   "mimetype": "text/x-python",
   "name": "python",
   "nbconvert_exporter": "python",
   "pygments_lexer": "ipython3",
   "version": "3.9.13"
  }
 },
 "nbformat": 4,
 "nbformat_minor": 5
}
